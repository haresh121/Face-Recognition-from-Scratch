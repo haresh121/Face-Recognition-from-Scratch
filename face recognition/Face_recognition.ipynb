{
 "cells": [
  {
   "cell_type": "code",
   "execution_count": 8,
   "metadata": {},
   "outputs": [
    {
     "name": "stdout",
     "output_type": "stream",
     "text": [
      "['haresh', 'spoorthy', 'prashanth_reddy', 'ajay']\n",
      "['haresh', 'spoorthy', 'prashanth_reddy', 'ajay']\n",
      "['haresh', 'spoorthy', 'prashanth_reddy', 'ajay']\n",
      "['haresh', 'spoorthy', 'prashanth_reddy', 'ajay']\n",
      "['haresh', 'spoorthy', 'prashanth_reddy', 'ajay']\n"
     ]
    }
   ],
   "source": [
    "from eigen import EigenFaces\n",
    "from util import create_dataset\n",
    "import numpy as np\n",
    "\n",
    "[X, y, code] = create_dataset(\"images/\")\n",
    "y = y[:60]\n",
    "\n",
    "model = EigenFaces(X, y)\n",
    "model.train(X, y)\n",
    "\n",
    "# print(\"Predicted : \"+ str(model.predict(X[0])) +\" \\n Expected : \" + str(y[0]))"
   ]
  },
  {
   "cell_type": "code",
   "execution_count": 7,
   "metadata": {},
   "outputs": [
    {
     "data": {
      "text/plain": [
       "{4: 'haresh',\n",
       " 5: 'spoorthy',\n",
       " 6: 'prashanth_reddy',\n",
       " 7: 'ajay',\n",
       " 8: 'haresh',\n",
       " 9: 'spoorthy',\n",
       " 10: 'prashanth_reddy',\n",
       " 11: 'ajay',\n",
       " 12: 'haresh',\n",
       " 13: 'spoorthy',\n",
       " 14: 'prashanth_reddy',\n",
       " 15: 'ajay',\n",
       " 16: 'haresh',\n",
       " 17: 'spoorthy',\n",
       " 18: 'prashanth_reddy',\n",
       " 19: 'ajay'}"
      ]
     },
     "execution_count": 7,
     "metadata": {},
     "output_type": "execute_result"
    }
   ],
   "source": [
    "code"
   ]
  },
  {
   "cell_type": "code",
   "execution_count": 9,
   "metadata": {},
   "outputs": [],
   "source": [
    "import cv2\n",
    "import dlib\n",
    "from imutils import face_utils\n",
    "import matplotlib.pyplot as plt\n",
    "detect = dlib.get_frontal_face_detector()\n",
    "predict = dlib.shape_predictor(\"data/shape_predictor_68_face_landmarks.dat\")"
   ]
  },
  {
   "cell_type": "code",
   "execution_count": null,
   "metadata": {},
   "outputs": [],
   "source": [
    "# im = cv2.imread(\"images/1.jpg\")\n",
    "# gray = cv2.cvtColor(im, cv2.COLOR_BGR2RGB)\n",
    "# gray = cv2.cvtColor(im, cv2.COLOR_BGR2GRAY)\n",
    "# # rects = detect(gray, 0)\n",
    "# # model.predict(gray)\n",
    "# print(\"Predicted : \"+ str(model.predict(gray)) +\" \\n Expected : \" + str(2))\n",
    "# # for rect in rects:\n",
    "# #     shape = predict(gray, rect)\n",
    "# #     shape = face_utils.shape_to_np(shape)\n",
    "# #     if model.predict(shape) == 1:\n",
    "# #         for (x, y) in shape:\n",
    "# #             cv2.circle(im, (x, y), 2, (0, 255, 0), -1)\n",
    "# #     else:\n",
    "# #         pass\n",
    "# # plt.imshow(im)"
   ]
  },
  {
   "cell_type": "code",
   "execution_count": 10,
   "metadata": {},
   "outputs": [],
   "source": [
    "cap = cv2.VideoCapture(0)\n",
    "while True:\n",
    "    _, img = cap.read()\n",
    "    roi = img[0:480, 160:640]\n",
    "    gray = cv2.cvtColor(roi, cv2.COLOR_BGR2GRAY)\n",
    "    rects = detect(gray, 0)\n",
    "    for rect in rects:\n",
    "        shape = predict(gray, rect)\n",
    "        shape = face_utils.shape_to_np(shape)\n",
    "        for (x, y) in shape:\n",
    "            cv2.circle(roi, (x,y), 2, (0,255,0), -1)\n",
    "    a = model.predict(gray)\n",
    "#     print(a)\n",
    "    cv2.putText(roi,code[a],(20,20), fontFace = cv2.FONT_HERSHEY_SIMPLEX, fontScale = 1,color=(255,0,0), thickness = 2)\n",
    "    cv2.imshow(\"Capturing\", roi)\n",
    "    if cv2.waitKey(30) & 0xFF == ord('q'):\n",
    "        break\n",
    "cap.release()\n",
    "cv2.destroyAllWindows()"
   ]
  },
  {
   "cell_type": "code",
   "execution_count": 6,
   "metadata": {},
   "outputs": [
    {
     "data": {
      "text/plain": [
       "'prashanth_reddy'"
      ]
     },
     "execution_count": 6,
     "metadata": {},
     "output_type": "execute_result"
    }
   ],
   "source": [
    "cap.release()\n",
    "cv2.destroyAllWindows()\n",
    "code[a]"
   ]
  }
 ],
 "metadata": {
  "kernelspec": {
   "display_name": "Python 3",
   "language": "python",
   "name": "python3"
  },
  "language_info": {
   "codemirror_mode": {
    "name": "ipython",
    "version": 3
   },
   "file_extension": ".py",
   "mimetype": "text/x-python",
   "name": "python",
   "nbconvert_exporter": "python",
   "pygments_lexer": "ipython3",
   "version": "3.6.8"
  }
 },
 "nbformat": 4,
 "nbformat_minor": 2
}
